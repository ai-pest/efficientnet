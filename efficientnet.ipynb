{
  "nbformat": 4,
  "nbformat_minor": 0,
  "metadata": {
    "colab": {
      "name": "efficientnet.ipynb",
      "provenance": [],
      "collapsed_sections": []
    },
    "kernelspec": {
      "name": "python3",
      "display_name": "Python 3"
    },
    "accelerator": "TPU"
  },
  "cells": [
    {
      "cell_type": "code",
      "metadata": {
        "id": "d62J8Tfu-hdx"
      },
      "source": [
        "## EfficientNet\n",
        "## Google Colaboratory (https://colab.research.google.com) での学習・推論\n",
        "\n",
        "## TF1.15 で学習・推論を実施します\n",
        "!pip uninstall -y tensorflow\n",
        "!pip install tensorflow-gpu==1.15.3\n",
        "!python -c 'import tensorflow as tf; print(\"Script says: {}\".format(tf.__version__))'"
      ],
      "execution_count": null,
      "outputs": []
    },
    {
      "cell_type": "code",
      "source": [
        "## 認証\n",
        "!gcloud auth application-default login --no-browser\n",
        "!gcloud auth login --no-browser"
      ],
      "metadata": {
        "id": "P4PEV_4Q_C7e"
      },
      "execution_count": null,
      "outputs": []
    },
    {
      "cell_type": "code",
      "metadata": {
        "id": "IG98AY0yF7YS"
      },
      "source": [
        "## GCSからスクリプトをダウンロード\n",
        "!(mkdir -p /content/effnet && gsutil -m rsync -r gs://path/to/efficientnet /content/effnet)\n",
        "\n",
        "## ライブラリをインストール\n",
        "!pip install cloud-tpu-profiler pycocotools"
      ],
      "execution_count": null,
      "outputs": []
    },
    {
      "cell_type": "code",
      "metadata": {
        "id": "aBI1vgw8HmEl"
      },
      "source": [
        "## 設定\n",
        "## -----------------------\n",
        "\n",
        "## データセットのあるディレクトリ\n",
        "%env DATASET=gs://path/to/dataset/\n",
        "\n",
        "## ラベルのクラス数\n",
        "%env NUM_CLASSES=4\n",
        "\n",
        "## 学習済みモデルの保存先ディレクトリ\n",
        "%env LOG_TO=gs://path/to/model/\n",
        "\n",
        "## 入力画像サイズ（指定したサイズにリサイズされる）\n",
        "%env INPUT_IMAGE_SIZE=1024\n",
        "\n",
        "## リサイズ方式\n",
        "%env RESIZE_METHOD=None\n",
        "\n",
        "## バッチサイズ\n",
        "%env BATCH_SIZE=32\n",
        "\n",
        "## 学習画像の枚数\n",
        "%env NUM_TRAIN_IMAGES=5288\n",
        "\n",
        "## 評価画像の枚数\n",
        "%env NUM_EVAL_IMAGES=740\n",
        "\n",
        "## 指定したエポックごとにチェックポイントを書き出す\n",
        "epoch_per_iter = 5\n",
        "\n",
        "## 事前学習モデルのファイルパス\n",
        "%env WARM_START_PATH=gs://path/to/noisy-student-efficientnet-b1/\n",
        "\n",
        "## モデル名（efficientnet-b1, efficientnet-b7 など）\n",
        "%env MODEL_NAME=efficientnet-b1\n",
        "\n",
        "## 画像の水増し手法\n",
        "%env AUG_NAME=None\n",
        "\n",
        "## 画像水増し手法のサブポリシー\n",
        "%env AUG_SUBPOLICY=zoom\n",
        "\n",
        "## Mixup 水増しのアルファ値\n",
        "%env MIXUP_ALPHA=0.0\n",
        "\n",
        "## スケジューリング方式（下記のなかから1つ選択）\n",
        "## --transfer_schedule: Head層→全レイヤ の学習エポック数 [head, all]\n",
        "## --train_steps: 全レイヤ学習ステップ数\n",
        "%env SCHEDULING=--transfer_schedule=5,10\n",
        "#%env SCHEDULING=--train_steps=300000\n",
        "\n",
        "## 学習率\n",
        "%env BASE_LEARNING_RATE=0.016\n",
        "\n",
        "%env OTHER_OPTIONS=--keep_checkpoint_max=0\n",
        "\n",
        "\n",
        "## 自動設定項目\n",
        "## -----------------------\n",
        "import os, math\n",
        "iter_per_loop = math.ceil(int(os.environ['NUM_TRAIN_IMAGES']) / int(os.environ['BATCH_SIZE']) * epoch_per_iter)\n",
        "%env ITER_PER_LOOP=$iter_per_loop\n",
        "\n",
        "## スケジュールから学習ステップ数を計算する\n",
        "steps = int(os.environ['NUM_TRAIN_IMAGES']) * int(os.environ['SCHEDULING'].lstrip('-').split(',')[1]) / int(os.environ['BATCH_SIZE'])\n",
        "print(f'Number of steps: {steps}')"
      ],
      "execution_count": null,
      "outputs": []
    },
    {
      "cell_type": "code",
      "metadata": {
        "id": "i6_4R7AIHlhC"
      },
      "source": [
        "## EfficientNet Train\n",
        "## ------------------------\n",
        "!python /content/effnet/main_v4rc5.py \\\n",
        "--tpu=${TPU_NAME} \\\n",
        "--data_dir=${DATASET} \\\n",
        "--num_label_classes=${NUM_CLASSES} \\\n",
        "--model_dir=${LOG_TO} \\\n",
        "--model_name=${MODEL_NAME} \\\n",
        "--mode=train \\\n",
        "--input_image_size=${INPUT_IMAGE_SIZE} \\\n",
        "--train_batch_size=${BATCH_SIZE} \\\n",
        "${SCHEDULING} \\\n",
        "--num_train_images=${NUM_TRAIN_IMAGES} \\\n",
        "--iterations_per_loop=${ITER_PER_LOOP} \\\n",
        "--warm_start_path=${WARM_START_PATH} \\\n",
        "--resize_method=${RESIZE_METHOD} \\\n",
        "--augment_name=${AUG_NAME} \\\n",
        "--augment_subpolicy=${AUG_SUBPOLICY} \\\n",
        "--base_learning_rate=${BASE_LEARNING_RATE} \\\n",
        "--mixup_alpha=${MIXUP_ALPHA} \\\n",
        "${OTHER_OPTIONS}"
      ],
      "execution_count": null,
      "outputs": []
    },
    {
      "cell_type": "code",
      "metadata": {
        "id": "GParBy3O2KK9"
      },
      "source": [
        "!pip install tensorflow==2.3\n",
        "## EfficientNet Eval\n",
        "## ------------------------\n",
        "!python /content/effnet/main_v4rc5.py \\\n",
        "--tpu=${TPU_NAME} \\\n",
        "--data_dir=${DATASET} \\\n",
        "--num_label_classes=${NUM_CLASSES} \\\n",
        "--model_dir=${LOG_TO} \\\n",
        "--model_name=${MODEL_NAME} \\\n",
        "--mode=eval \\\n",
        "--input_image_size=${INPUT_IMAGE_SIZE} \\\n",
        "--eval_batch_size=8 \\\n",
        "--num_eval_images=${NUM_EVAL_IMAGES} \\\n",
        "--steps_per_eval=1000 \\\n",
        "--resize_method=${RESIZE_METHOD} \\\n",
        "--eval_iterator=latest \\\n",
        "${OTHER_OPTIONS}"
      ],
      "execution_count": null,
      "outputs": []
    }
  ]
}
